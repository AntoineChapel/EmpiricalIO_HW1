{
 "cells": [
  {
   "cell_type": "code",
   "execution_count": 1,
   "metadata": {},
   "outputs": [],
   "source": [
    "import numpy as np\n",
    "import pandas as pd"
   ]
  },
  {
   "cell_type": "code",
   "execution_count": 3,
   "metadata": {},
   "outputs": [],
   "source": [
    "N = 1000\n",
    "T = 50 \n",
    "\n",
    "price_transition_states = pd.read_csv(r'price_transition_states.csv')\n",
    "price_transition_matrix = pd.read_csv(r'transition_prob_matrix.csv')\n",
    "price_transition_matrix_np = price_transition_matrix.to_numpy()\n",
    "price_transition_states_np = price_transition_states.to_numpy()\n",
    "\n",
    "# %%\n",
    "def simulate_prices(states, transition, T):\n",
    "    state_indices = np.arange(states.shape[0])\n",
    "\n",
    "    price_simu = np.zeros((T, 6)) #create a matrix to store the simulated prices\n",
    "    price_simu[0] = states[0] #fix the initial vector of prices\n",
    "    \n",
    "    for t in range(1, T):\n",
    "        preceding_state = price_simu[t-1, :] #take the preceding state\n",
    "        index_preceding_state = int(preceding_state[-1] - 1) #take the index of the preceding state (-1 for 0-indexing in Python)\n",
    "        index_next_state = np.random.choice(state_indices, p=(transition[index_preceding_state, :].flatten())) #draw the next state\n",
    "        price_simu[t, :] = states[index_next_state] #update the price vector and store it\n",
    "    return price_simu\n",
    "\n",
    "# %%\n",
    "price_150_by_6 = simulate_prices(price_transition_states_np, price_transition_matrix_np, T)\n",
    "prices_150_by_4 = price_150_by_6[:, :-2] "
   ]
  },
  {
   "cell_type": "code",
   "execution_count": 25,
   "metadata": {},
   "outputs": [],
   "source": [
    "beta = np.array([-1.71,  0.44, -1.37, -0.91])\n",
    "gamma = -1.23"
   ]
  },
  {
   "cell_type": "code",
   "execution_count": 26,
   "metadata": {},
   "outputs": [],
   "source": [
    "def elasticities(beta, gamma, prices):\n",
    "    vjs = beta + gamma * np.mean(prices, axis=0)\n",
    "    Pjs = np.exp(vjs) / (1+np.sum(np.exp(vjs)))\n",
    "    #own price elasticities:\n",
    "    e_jj = (gamma * np.mean(prices, axis=0) * (1-Pjs)).reshape(1,- 1)\n",
    "    e_jk = ((-gamma) * np.mean(prices, axis=0) * Pjs).reshape(1, -1)\n",
    "    return np.vstack((e_jj, e_jk))"
   ]
  },
  {
   "cell_type": "code",
   "execution_count": 5,
   "metadata": {},
   "outputs": [],
   "source": [
    "#Homogeneous\n",
    "beta_MLE_hat = np.array([-1.550132, -0.23989092, -1.3096188, -0.9299984])\n",
    "gamma_MLE_hat = -0.36560854"
   ]
  },
  {
   "cell_type": "code",
   "execution_count": 28,
   "metadata": {},
   "outputs": [],
   "source": [
    "#Mixed Logit:\n",
    "beta_MLE_het = np.array([-0.9368873, 0.01981145, -0.6546789, -1.1986973])\n",
    "gamma_MLE_het = -1.2291056"
   ]
  },
  {
   "cell_type": "code",
   "execution_count": 27,
   "metadata": {},
   "outputs": [
    {
     "data": {
      "text/plain": [
       "array([[-1.05327958, -2.77639753, -1.00366547, -3.215437  ],\n",
       "       [ 0.05330595,  0.19089299,  0.07506905,  0.04068143]])"
      ]
     },
     "execution_count": 27,
     "metadata": {},
     "output_type": "execute_result"
    }
   ],
   "source": [
    "elasticities(beta, gamma, prices_150_by_4)"
   ]
  },
  {
   "cell_type": "code",
   "execution_count": 29,
   "metadata": {},
   "outputs": [
    {
     "data": {
      "text/plain": [
       "array([[-0.30138419, -0.72454406, -0.28621518, -0.8883296 ],\n",
       "       [ 0.0275403 ,  0.15746143,  0.0344308 ,  0.07952788]])"
      ]
     },
     "execution_count": 29,
     "metadata": {},
     "output_type": "execute_result"
    }
   ],
   "source": [
    "elasticities(beta_MLE_hat, gamma_MLE_hat, prices_150_by_4)"
   ]
  },
  {
   "cell_type": "code",
   "execution_count": 30,
   "metadata": {},
   "outputs": [
    {
     "data": {
      "text/plain": [
       "array([[-1.00116547, -2.85138232, -0.93889931, -3.22609681],\n",
       "       [ 0.1046154 ,  0.11375052,  0.13905081,  0.02765392]])"
      ]
     },
     "execution_count": 30,
     "metadata": {},
     "output_type": "execute_result"
    }
   ],
   "source": [
    "elasticities(beta_MLE_het, gamma_MLE_het, prices_150_by_4)"
   ]
  }
 ],
 "metadata": {
  "kernelspec": {
   "display_name": "EIO_hw1",
   "language": "python",
   "name": "python3"
  },
  "language_info": {
   "codemirror_mode": {
    "name": "ipython",
    "version": 3
   },
   "file_extension": ".py",
   "mimetype": "text/x-python",
   "name": "python",
   "nbconvert_exporter": "python",
   "pygments_lexer": "ipython3",
   "version": "3.12.3"
  }
 },
 "nbformat": 4,
 "nbformat_minor": 2
}
